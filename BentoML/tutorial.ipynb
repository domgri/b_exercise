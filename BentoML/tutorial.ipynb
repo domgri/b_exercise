{
 "cells": [
  {
   "cell_type": "markdown",
   "id": "a682ea0b",
   "metadata": {},
   "source": [
    "# BentoML service preparation & deployment (local and Docker)"
   ]
  },
  {
   "cell_type": "markdown",
   "id": "48087efc",
   "metadata": {},
   "source": [
    "If does not exist, import prepared_data.csv into working directory.\n",
    "\n",
    "Press 'Run All' to:\n",
    "* Ingest data from prepared_data.csv \n",
    "* Prepare and split data for training and testing\n",
    "* Train model with a single configuration\n",
    "* Save model into BentoML library\n",
    "* Create BentoML Service\n",
    "* Dockerize the Service\n",
    "\n",
    "Manually, at 'Run service in Docker' deploy docker container. At the end of a file instructions indicate how to test the endpoint."
   ]
  },
  {
   "cell_type": "markdown",
   "id": "e173d445",
   "metadata": {},
   "source": [
    "## Setup"
   ]
  },
  {
   "cell_type": "markdown",
   "id": "f182ba56",
   "metadata": {},
   "source": [
    "Install required dependencies:"
   ]
  },
  {
   "cell_type": "code",
   "execution_count": null,
   "id": "3ad00863",
   "metadata": {},
   "outputs": [],
   "source": [
    "!pip3 install -r requirements.txt"
   ]
  },
  {
   "cell_type": "markdown",
   "id": "84988464",
   "metadata": {
    "raw_mimetype": "text/markdown"
   },
   "source": [
    "If you are running MacOS use the following pip command:"
   ]
  },
  {
   "cell_type": "code",
   "execution_count": null,
   "id": "31a9cdfa",
   "metadata": {},
   "outputs": [],
   "source": [
    "!pip3 install -r requirements-macos.txt"
   ]
  },
  {
   "cell_type": "code",
   "execution_count": null,
   "id": "4c572c9a",
   "metadata": {},
   "outputs": [],
   "source": [
    "!pip3 install \"bentoml[io-json]\""
   ]
  },
  {
   "cell_type": "code",
   "execution_count": 4,
   "id": "48b606d2",
   "metadata": {},
   "outputs": [
    {
     "name": "stdout",
     "output_type": "stream",
     "text": [
      "bentoml, version 1.0.13\n"
     ]
    }
   ],
   "source": [
    "!bentoml -v"
   ]
  },
  {
   "cell_type": "code",
   "execution_count": 5,
   "id": "327273b1",
   "metadata": {},
   "outputs": [],
   "source": [
    "import bentoml\n",
    "import tensorflow as tf\n",
    "import pandas as pd\n",
    "from numpy import concatenate\n",
    "from matplotlib import pyplot\n",
    "from pandas import read_csv\n",
    "from pandas import DataFrame\n",
    "from pandas import concat\n",
    "from sklearn.preprocessing import MinMaxScaler\n",
    "from sklearn.metrics import mean_squared_error\n",
    "from tensorflow.keras.layers import LSTM, Dense, Reshape\n",
    "from tensorflow.keras import Model"
   ]
  },
  {
   "cell_type": "markdown",
   "id": "345d387d",
   "metadata": {},
   "source": [
    "## Data ingestion & preparation"
   ]
  },
  {
   "cell_type": "code",
   "execution_count": 6,
   "id": "ab222aec",
   "metadata": {},
   "outputs": [],
   "source": [
    "# https://machinelearningmastery.com/convert-time-series-supervised-learning-problem-python/\n",
    "# convert series to supervised learning\n",
    "def series_to_supervised(data, n_in=1, n_out=1, dropnan=True):\n",
    "  n_vars = 1 if type(data) is list else data.shape[1]\n",
    "  df = DataFrame(data)\n",
    "  cols, names = list(), list()\n",
    "  # input sequence (t-n, ... t-1)\n",
    "  for i in range(n_in, 0, -1):\n",
    "    cols.append(df.shift(i))\n",
    "    names += [('var%d(t-%d)' % (j+1, i)) for j in range(n_vars)]\n",
    "  # forecast sequence (t, t+1, ... t+n)\n",
    "  for i in range(0, n_out):\n",
    "    cols.append(df.shift(-i))\n",
    "    if i == 0:\n",
    "      names += [('var%d(t)' % (j+1)) for j in range(n_vars)]\n",
    "    else:\n",
    "      names += [('var%d(t+%d)' % (j+1, i)) for j in range(n_vars)]\n",
    "  # put it all together\n",
    "  agg = concat(cols, axis=1)\n",
    "  agg.columns = names\n",
    "  # drop rows with NaN values\n",
    "  if dropnan:\n",
    "    agg.dropna(inplace=True)\n",
    "  return agg"
   ]
  },
  {
   "cell_type": "code",
   "execution_count": 7,
   "id": "e41406a6",
   "metadata": {},
   "outputs": [],
   "source": [
    " # load dataset\n",
    "dataset = pd.read_csv('prepared_data.csv')\n",
    "dataset = dataset.drop(['date'], axis=1)\n",
    "\n",
    "values = dataset.values\n",
    "\n",
    "# normalize features\n",
    "scaler = MinMaxScaler(feature_range=(0, 1))\n",
    "scaled = scaler.fit_transform(values)\n",
    "\n",
    "# frame as supervised learning\n",
    "reframed = series_to_supervised(scaled, 0, 30)\n",
    "\n",
    "# drop every column except revenue for prediction\n",
    "list_to_drop = list(range(len(reframed.columns) // 2, len(reframed.columns)))\n",
    "del list_to_drop [52-1::52]\n",
    "reframed.drop(reframed.columns[list_to_drop], axis=1, inplace=True)"
   ]
  },
  {
   "cell_type": "code",
   "execution_count": 8,
   "id": "ff23853c",
   "metadata": {},
   "outputs": [
    {
     "name": "stdout",
     "output_type": "stream",
     "text": [
      "(1409, 1, 794) (1409,) (324, 1, 794) (324,)\n"
     ]
    }
   ],
   "source": [
    "# split into train and test sets\n",
    "values = reframed.values\n",
    "\n",
    "eighty = int(len(dataset)*0.8)\n",
    "train = values[:eighty, :]\n",
    "test = values[eighty:, :]\n",
    "\n",
    "# split into input and outputs\n",
    "train_X, train_y = train[:, :-1], train[:, -1]\n",
    "test_X, test_y = test[:, :-1], test[:, -1]\n",
    "\n",
    "# reshape input to be 3D [samples, timesteps, features]\n",
    "train_X = train_X.reshape((train_X.shape[0], 1, train_X.shape[1]))\n",
    "test_X = test_X.reshape((test_X.shape[0], 1, test_X.shape[1]))\n",
    "print(train_X.shape, train_y.shape, test_X.shape, test_y.shape)"
   ]
  },
  {
   "cell_type": "markdown",
   "id": "45393b74",
   "metadata": {},
   "source": [
    "## Define the model"
   ]
  },
  {
   "cell_type": "code",
   "execution_count": 9,
   "id": "caeff07d",
   "metadata": {},
   "outputs": [],
   "source": [
    "n_forecast = 30\n",
    "num_features = 1\n",
    "\n",
    "class MyModel(Model):\n",
    "    def __init__(self):\n",
    "        super(MyModel, self).__init__()\n",
    "        self.lstm = LSTM(32, return_sequences=False)\n",
    "        self.dense = Dense(n_forecast*num_features)\n",
    "        self.reshape = Reshape([n_forecast, num_features])\n",
    "\n",
    "    def call(self, x):\n",
    "        x = self.lstm(x)\n",
    "        x = self.dense(x)\n",
    "        return self.reshape(x)\n",
    "\n",
    "model = MyModel()\n",
    "\n",
    "model.compile(loss='mean_squared_error', optimizer='adam')"
   ]
  },
  {
   "cell_type": "markdown",
   "id": "38888f0a",
   "metadata": {},
   "source": [
    "## Training and Saving the model\n",
    "\n",
    "Then we initialize some simple tensorflow helper functions and create the training and testing methods"
   ]
  },
  {
   "cell_type": "markdown",
   "id": "ad2104a6",
   "metadata": {},
   "source": [
    "### Training the model\n",
    "\n",
    "As provided by TensorFlow, we train and test the model."
   ]
  },
  {
   "cell_type": "code",
   "execution_count": 10,
   "id": "6b85432d-4954-4321-bdcd-a65e292d9db3",
   "metadata": {},
   "outputs": [
    {
     "name": "stdout",
     "output_type": "stream",
     "text": [
      "Epoch 1/200\n"
     ]
    },
    {
     "name": "stderr",
     "output_type": "stream",
     "text": [
      "2023-02-08 05:25:04.013686: W tensorflow/tsl/platform/profile_utils/cpu_utils.cc:128] Failed to get CPU frequency: 0 Hz\n"
     ]
    },
    {
     "name": "stdout",
     "output_type": "stream",
     "text": [
      "15/15 - 1s - loss: 0.0758 - val_loss: 0.0733 - 1s/epoch - 94ms/step\n",
      "Epoch 2/200\n",
      "15/15 - 0s - loss: 0.0631 - val_loss: 0.0508 - 65ms/epoch - 4ms/step\n",
      "Epoch 3/200\n",
      "15/15 - 0s - loss: 0.0488 - val_loss: 0.0402 - 54ms/epoch - 4ms/step\n",
      "Epoch 4/200\n",
      "15/15 - 0s - loss: 0.0445 - val_loss: 0.0335 - 55ms/epoch - 4ms/step\n",
      "Epoch 5/200\n",
      "15/15 - 0s - loss: 0.0418 - val_loss: 0.0299 - 62ms/epoch - 4ms/step\n",
      "Epoch 6/200\n",
      "15/15 - 0s - loss: 0.0377 - val_loss: 0.0261 - 52ms/epoch - 3ms/step\n",
      "Epoch 7/200\n",
      "15/15 - 0s - loss: 0.0328 - val_loss: 0.0217 - 51ms/epoch - 3ms/step\n",
      "Epoch 8/200\n",
      "15/15 - 0s - loss: 0.0277 - val_loss: 0.0180 - 68ms/epoch - 5ms/step\n",
      "Epoch 9/200\n",
      "15/15 - 0s - loss: 0.0228 - val_loss: 0.0152 - 53ms/epoch - 4ms/step\n",
      "Epoch 10/200\n",
      "15/15 - 0s - loss: 0.0190 - val_loss: 0.0140 - 53ms/epoch - 4ms/step\n",
      "Epoch 11/200\n",
      "15/15 - 0s - loss: 0.0167 - val_loss: 0.0139 - 51ms/epoch - 3ms/step\n",
      "Epoch 12/200\n",
      "15/15 - 0s - loss: 0.0154 - val_loss: 0.0131 - 48ms/epoch - 3ms/step\n",
      "Epoch 13/200\n",
      "15/15 - 0s - loss: 0.0149 - val_loss: 0.0125 - 50ms/epoch - 3ms/step\n",
      "Epoch 14/200\n",
      "15/15 - 0s - loss: 0.0151 - val_loss: 0.0136 - 48ms/epoch - 3ms/step\n",
      "Epoch 15/200\n",
      "15/15 - 0s - loss: 0.0148 - val_loss: 0.0141 - 49ms/epoch - 3ms/step\n",
      "Epoch 16/200\n",
      "15/15 - 0s - loss: 0.0151 - val_loss: 0.0180 - 48ms/epoch - 3ms/step\n",
      "Epoch 17/200\n",
      "15/15 - 0s - loss: 0.0138 - val_loss: 0.0141 - 47ms/epoch - 3ms/step\n",
      "Epoch 18/200\n",
      "15/15 - 0s - loss: 0.0150 - val_loss: 0.0124 - 46ms/epoch - 3ms/step\n",
      "Epoch 19/200\n",
      "15/15 - 0s - loss: 0.0142 - val_loss: 0.0160 - 48ms/epoch - 3ms/step\n",
      "Epoch 20/200\n",
      "15/15 - 0s - loss: 0.0136 - val_loss: 0.0160 - 47ms/epoch - 3ms/step\n",
      "Epoch 21/200\n",
      "15/15 - 0s - loss: 0.0136 - val_loss: 0.0135 - 46ms/epoch - 3ms/step\n",
      "Epoch 22/200\n",
      "15/15 - 0s - loss: 0.0135 - val_loss: 0.0156 - 47ms/epoch - 3ms/step\n",
      "Epoch 23/200\n",
      "15/15 - 0s - loss: 0.0130 - val_loss: 0.0162 - 49ms/epoch - 3ms/step\n",
      "Epoch 24/200\n",
      "15/15 - 0s - loss: 0.0131 - val_loss: 0.0148 - 55ms/epoch - 4ms/step\n",
      "Epoch 25/200\n",
      "15/15 - 0s - loss: 0.0131 - val_loss: 0.0156 - 54ms/epoch - 4ms/step\n",
      "Epoch 26/200\n",
      "15/15 - 0s - loss: 0.0128 - val_loss: 0.0169 - 56ms/epoch - 4ms/step\n",
      "Epoch 27/200\n",
      "15/15 - 0s - loss: 0.0127 - val_loss: 0.0154 - 54ms/epoch - 4ms/step\n",
      "Epoch 28/200\n",
      "15/15 - 0s - loss: 0.0128 - val_loss: 0.0153 - 52ms/epoch - 3ms/step\n"
     ]
    },
    {
     "data": {
      "image/png": "[encoded data removed]",
      "text/plain": [
       "<Figure size 640x480 with 1 Axes>"
      ]
     },
     "metadata": {},
     "output_type": "display_data"
    }
   ],
   "source": [
    "# stop earlier to avoid overfitting \n",
    "early_stopping = tf.keras.callbacks.EarlyStopping(monitor='val_loss',\n",
    "                                                    patience=10,\n",
    "                                                    mode='min')\n",
    "\n",
    "# fit network\n",
    "history = model.fit(train_X, train_y, epochs=200, batch_size=100, \n",
    "    validation_data=(test_X, test_y), verbose=2, shuffle=False, callbacks=[early_stopping])\n",
    "# plot history\n",
    "pyplot.plot(history.history['loss'], label='train')\n",
    "pyplot.plot(history.history['val_loss'], label='test')\n",
    "pyplot.legend()\n",
    "pyplot.show()"
   ]
  },
  {
   "cell_type": "markdown",
   "id": "92d9b23c",
   "metadata": {},
   "source": [
    "### Saving the model\n",
    "\n",
    "Make one call to the bentoml library to save this tensorflow model to be used later as part of the prediction service that we will create."
   ]
  },
  {
   "cell_type": "code",
   "execution_count": 11,
   "id": "c645dee0",
   "metadata": {},
   "outputs": [
    {
     "name": "stderr",
     "output_type": "stream",
     "text": [
      "WARNING:absl:Found untraced functions such as _update_step_xla, lstm_cell_layer_call_fn, lstm_cell_layer_call_and_return_conditional_losses while saving (showing 3 of 3). These functions will not be directly callable after loading.\n"
     ]
    },
    {
     "name": "stdout",
     "output_type": "stream",
     "text": [
      "INFO:tensorflow:Assets written to: /var/folders/x4/ln2jnbvn4y77s5yjv_4l60p00000gn/T/tmpdrwjstk5bentoml_model_tensorflow_lstm/assets\n"
     ]
    },
    {
     "name": "stderr",
     "output_type": "stream",
     "text": [
      "INFO:tensorflow:Assets written to: /var/folders/x4/ln2jnbvn4y77s5yjv_4l60p00000gn/T/tmpdrwjstk5bentoml_model_tensorflow_lstm/assets\n"
     ]
    },
    {
     "data": {
      "text/plain": [
       "Model(tag=\"tensorflow_lstm:f5ama7vhmcw274wm\", path=\"/Users/domas/bentoml/models/tensorflow_lstm/f5ama7vhmcw274wm/\")"
      ]
     },
     "execution_count": 11,
     "metadata": {},
     "output_type": "execute_result"
    }
   ],
   "source": [
    "bentoml.tensorflow.save_model(\n",
    "    \"tensorflow_lstm\",\n",
    "    model,\n",
    "    signatures={\"__call__\": {\"batchable\": True, \"batch_dim\": 0}},\n",
    ")"
   ]
  },
  {
   "cell_type": "markdown",
   "id": "b82b307a",
   "metadata": {},
   "source": [
    "List all create models in bentoml library."
   ]
  },
  {
   "cell_type": "code",
   "execution_count": 12,
   "id": "4e8c5049",
   "metadata": {},
   "outputs": [],
   "source": [
    "# !bentoml models list"
   ]
  },
  {
   "cell_type": "markdown",
   "id": "bdf35e55",
   "metadata": {},
   "source": [
    "## Create a BentoML Service for serving the model\n",
    "\n",
    "Note: using `%%writefile` here because `bentoml.Service` instance must be created in a separate `.py` file\n",
    "\n",
    "Script below creates a single endpoint `predict31`, which will predict from 31 days history into next 31 days.\n"
   ]
  },
  {
   "cell_type": "code",
   "execution_count": 13,
   "id": "f3e2f590",
   "metadata": {},
   "outputs": [
    {
     "name": "stdout",
     "output_type": "stream",
     "text": [
      "Overwriting service.py\n"
     ]
    }
   ],
   "source": [
    "%%writefile service.py\n",
    "\n",
    "import bentoml\n",
    "import numpy as np\n",
    "import pandas as pd\n",
    "from bentoml.io import Image, NumpyNdarray, JSON\n",
    "from sklearn.preprocessing import MinMaxScaler\n",
    "from pydantic import BaseModel\n",
    "from pandas import DataFrame\n",
    "from pandas import concat\n",
    "from numpy import concatenate\n",
    "\n",
    "# create a runner for a predictions using just trained model\n",
    "runner = bentoml.tensorflow.get(\"tensorflow_lstm:latest\").to_runner()\n",
    "\n",
    "# create a service endpoint\n",
    "svc = bentoml.Service(\n",
    "    name=\"tensorflow_lstm_demo\",\n",
    "    runners=[runner],\n",
    ")\n",
    "\n",
    "# convert series to supervised learning\n",
    "def series_to_supervised(data, n_in=1, n_out=1, dropnan=True):\n",
    "  n_vars = 1 if type(data) is list else data.shape[1]\n",
    "  df = DataFrame(data)\n",
    "  cols, names = list(), list()\n",
    "  # input sequence (t-n, ... t-1)\n",
    "  for i in range(n_in, 0, -1):\n",
    "    cols.append(df.shift(i))\n",
    "    names += [('var%d(t-%d)' % (j+1, i)) for j in range(n_vars)]\n",
    "  # forecast sequence (t, t+1, ... t+n)\n",
    "  for i in range(0, n_out):\n",
    "    cols.append(df.shift(-i))\n",
    "    if i == 0:\n",
    "      names += [('var%d(t)' % (j+1)) for j in range(n_vars)]\n",
    "    else:\n",
    "      names += [('var%d(t+%d)' % (j+1, i)) for j in range(n_vars)]\n",
    "  # put it all together\n",
    "  agg = concat(cols, axis=1)\n",
    "  agg.columns = names\n",
    "  # drop rows with NaN values\n",
    "  if dropnan:\n",
    "    agg.dropna(inplace=True)\n",
    "  return agg\n",
    "\n",
    "@svc.api(input=JSON(), output=NumpyNdarray(dtype=\"float32\"))\n",
    "async def predict30(input_data: JSON) -> \"np.ndarray\":\n",
    "\n",
    "    # Ingest data\n",
    "    data = pd.DataFrame(input_data).T\n",
    "    data = data.drop(['date'], axis=1)\n",
    "\n",
    "    values = data.values\n",
    "\n",
    "    # Normalize\n",
    "    scaler = MinMaxScaler(feature_range=(0, 1))\n",
    "    scaled = scaler.fit_transform(values)\n",
    "\n",
    "    # Reshape\n",
    "    reframed = series_to_supervised(scaled, 0, 30)\n",
    "\n",
    "    # drop every column except revenue for prediction\n",
    "    list_to_drop = list(range(len(reframed.columns) // 2, len(reframed.columns)))\n",
    "    del list_to_drop [52-1::52]\n",
    "    reframed.drop(reframed.columns[list_to_drop], axis=1, inplace=True)\n",
    "\n",
    "\n",
    "    # prepare data for model\n",
    "    values= reframed.values\n",
    "    test = values[:len(data), :]\n",
    "    test_X, test_y = test[:, :-1], test[:, -1]\n",
    "    test_X = test_X.reshape((test_X.shape[0], 1, test_X.shape[1]))\n",
    "\n",
    "    # predict\n",
    "    yhat  = await runner.async_run(test_X)\n",
    "\n",
    "    # transform and retreive results\n",
    "    results = []\n",
    "    for i in range(30):\n",
    "        test_X[0, 0, -1] = yhat[0, i, 0]\n",
    "        result_day = scaler.inverse_transform(test_X[:, 0, -52:])\n",
    "        results.append(result_day[0, -1])\n",
    "\n",
    "    return np.array(results)\n",
    "\n"
   ]
  },
  {
   "cell_type": "markdown",
   "id": "590147aa",
   "metadata": {},
   "source": [
    "Start a dev model server with the comand below (for local testing)"
   ]
  },
  {
   "cell_type": "code",
   "execution_count": 14,
   "id": "29173871",
   "metadata": {},
   "outputs": [],
   "source": [
    "# !bentoml serve service.py:svc --reload"
   ]
  },
  {
   "cell_type": "markdown",
   "id": "d165db57",
   "metadata": {},
   "source": [
    "### Test local endpoint"
   ]
  },
  {
   "cell_type": "markdown",
   "id": "cc56e081",
   "metadata": {},
   "source": [
    "If using file from data notebook\n",
    "\n",
    "`curl -X POST -H \"Content-Type: application/json\" -d @test.json http://0.0.0.0:3000/predict30`\n",
    "\n",
    "or alternatively, python request:"
   ]
  },
  {
   "cell_type": "code",
   "execution_count": 15,
   "id": "9bfafaac",
   "metadata": {},
   "outputs": [],
   "source": [
    "# ### test from other notebook, since server is running here\n",
    "\n",
    "# import requests\n",
    "\n",
    "# url = 'http://0.0.0.0:3000/predict30'\n",
    "# headers = {\"content-type\": \"application/json\"}\n",
    "# r = requests.post(url, data=open('test.json', 'rb'), headers=headers).text\n",
    "\n",
    "# print(r)"
   ]
  },
  {
   "cell_type": "markdown",
   "id": "c7f03564",
   "metadata": {},
   "source": [
    "## Build a Bento for distribution and deployment"
   ]
  },
  {
   "cell_type": "markdown",
   "id": "f51f7406",
   "metadata": {},
   "source": [
    "Note: if running, stop the server above to proceed\n",
    "\n",
    "A `bentofile` is already created in this directory  with all the necessary packages for building a Bento for the service:"
   ]
  },
  {
   "cell_type": "markdown",
   "id": "3757297b",
   "metadata": {},
   "source": [
    "```yaml\n",
    "service: \"service:svc\"\n",
    "description: \"file: ./README.md\"\n",
    "labels:\n",
    "  owner: Domas\n",
    "  stage: demo\n",
    "include:\n",
    "  - \"*.py\"\n",
    "exclude:\n",
    "  - \"locustfile.py\"\n",
    "python:\n",
    "  lock_packages: false\n",
    "  packages:\n",
    "    - tensorflow\n",
    "    - Pillow\n",
    "    - pandas\n",
    "    - scikit-learn\n",
    "    - pydantic\n",
    "\n",
    "```"
   ]
  },
  {
   "cell_type": "markdown",
   "id": "2aa8e50a",
   "metadata": {},
   "source": [
    "Run `bentoml build` from current directory to build a Bento with the latest version of the `tensorflow_lstm_demo` model. This may take a while when running for the first time for BentoML to resolve all dependency versions:"
   ]
  },
  {
   "cell_type": "code",
   "execution_count": 16,
   "id": "3d37b339",
   "metadata": {},
   "outputs": [
    {
     "name": "stdout",
     "output_type": "stream",
     "text": [
      "Building BentoML service \"tensorflow_lstm_demo:gn4jasvhmciad4wm\" from build context \"/Users/domas/bentoml/gitrepo/b_exercise/BentoML\".\n",
      "Packing model \"tensorflow_lstm:f5ama7vhmcw274wm\"\n",
      "\n",
      "██████╗░███████╗███╗░░██╗████████╗░█████╗░███╗░░░███╗██╗░░░░░\n",
      "██╔══██╗██╔════╝████╗░██║╚══██╔══╝██╔══██╗████╗░████║██║░░░░░\n",
      "██████╦╝█████╗░░██╔██╗██║░░░██║░░░██║░░██║██╔████╔██║██║░░░░░\n",
      "██╔══██╗██╔══╝░░██║╚████║░░░██║░░░██║░░██║██║╚██╔╝██║██║░░░░░\n",
      "██████╦╝███████╗██║░╚███║░░░██║░░░╚█████╔╝██║░╚═╝░██║███████╗\n",
      "╚═════╝░╚══════╝╚═╝░░╚══╝░░░╚═╝░░░░╚════╝░╚═╝░░░░░╚═╝╚══════╝\n",
      "\n",
      "Successfully built Bento(tag=\"tensorflow_lstm_demo:gn4jasvhmciad4wm\").\n"
     ]
    }
   ],
   "source": [
    "!bentoml build"
   ]
  },
  {
   "cell_type": "markdown",
   "id": "7b1c3de9",
   "metadata": {},
   "source": [
    "### Dockerize"
   ]
  },
  {
   "cell_type": "markdown",
   "id": "1ed4c658",
   "metadata": {},
   "source": [
    "Put `Bento` into `Docker` container.\n",
    "Make sure the docker service itself is running before start.\n",
    "This might take some time."
   ]
  },
  {
   "cell_type": "code",
   "execution_count": null,
   "id": "a0629ba4",
   "metadata": {},
   "outputs": [],
   "source": [
    "!bentoml containerize tensorflow_lstm_demo:latest"
   ]
  },
  {
   "cell_type": "markdown",
   "id": "8f6de2a5",
   "metadata": {},
   "source": [
    "### Run service in Docker container"
   ]
  },
  {
   "cell_type": "markdown",
   "id": "0517681c",
   "metadata": {},
   "source": [
    "After container is prepared, the very last line shows a default command to run docker container. Run it to start the service."
   ]
  },
  {
   "cell_type": "code",
   "execution_count": 23,
   "id": "1d2048e3",
   "metadata": {},
   "outputs": [],
   "source": [
    "# run using command above\n",
    "# similar to described below (make sure to begin with '!')\n",
    "# !docker run -it --rm -p 3000:3000 tensorflow_lstm_demo:djls6yvhbspzn4wm serve --production"
   ]
  },
  {
   "cell_type": "markdown",
   "id": "9de44003",
   "metadata": {},
   "source": [
    "### Test Docker endpoint"
   ]
  },
  {
   "cell_type": "markdown",
   "id": "57067f8d",
   "metadata": {},
   "source": [
    "If using file from data notebook\n",
    "\n",
    "`curl -X POST -H \"Content-Type: application/json\" -d @test.json http://0.0.0.0:3000/predict30`\n",
    "\n",
    "or alternatively, python request:"
   ]
  },
  {
   "cell_type": "code",
   "execution_count": null,
   "id": "2798fb48",
   "metadata": {},
   "outputs": [],
   "source": [
    "# ### test from other notebook, since server is running here\n",
    "\n",
    "# import requests\n",
    "\n",
    "# url = 'http://0.0.0.0:3000/predict31'\n",
    "# headers = {\"content-type\": \"application/json\"}\n",
    "# r = requests.post(url, data=open('file-3.json', 'rb'), headers=headers).text\n",
    "\n",
    "# print(r)"
   ]
  }
 ],
 "metadata": {
  "celltoolbar": "Raw Cell Format",
  "kernelspec": {
   "display_name": "Python 3.10.7 64-bit",
   "language": "python",
   "name": "python3"
  },
  "language_info": {
   "codemirror_mode": {
    "name": "ipython",
    "version": 3
   },
   "file_extension": ".py",
   "mimetype": "text/x-python",
   "name": "python",
   "nbconvert_exporter": "python",
   "pygments_lexer": "ipython3",
   "version": "3.10.7"
  },
  "name": "tensorflow2_mnist_demo.ipynb",
  "vscode": {
   "interpreter": {
    "hash": "aee8b7b246df8f9039afb4144a1f6fd8d2ca17a180786b69acc140d282b71a49"
   }
  }
 },
 "nbformat": 4,
 "nbformat_minor": 5
}
