{
  "cells": [
    {
      "cell_type": "markdown",
      "metadata": {
        "id": "wJxTp686q27u"
      },
      "source": [
        "# Data preparation notebook\n",
        "\n",
        "This notebook shows how a sample query is prepared from data, given as an input."
      ]
    },
    {
      "cell_type": "markdown",
      "metadata": {
        "id": "aTWgeTyzq7-7"
      },
      "source": [
        "## Setup\n",
        "\n",
        "`IMPORTANT`: Import original \"Barbora Homework  ML Engineer.xlsx\" into working directory and rename to `\"barbora.xlsx\"`. \n",
        "\n",
        "\n"
      ]
    },
    {
      "cell_type": "code",
      "execution_count": null,
      "metadata": {},
      "outputs": [],
      "source": [
        "!pip3 install PrettyTable\n",
        "!pip3 install statsmodels\n",
        "!pip3 install openpyxl"
      ]
    },
    {
      "cell_type": "code",
      "execution_count": 28,
      "metadata": {
        "id": "8m7fNkYuZRvY"
      },
      "outputs": [],
      "source": [
        "import numpy as np \n",
        "import pandas as pd \n",
        "import seaborn as sns \n",
        "import matplotlib.pyplot as plt \n",
        "from datetime import datetime, date, time\n",
        "\n",
        "from prettytable import PrettyTable\n",
        "from statsmodels.tsa.seasonal import seasonal_decompose"
      ]
    },
    {
      "cell_type": "markdown",
      "metadata": {
        "id": "yEBLXLOAhG_s"
      },
      "source": [
        "## Data ingestion"
      ]
    },
    {
      "cell_type": "markdown",
      "metadata": {},
      "source": [
        "Any 30 days data given in a format mathching of revenue (30 rows) and weather (between 30 days) would work. For instance, uncomment following lines."
      ]
    },
    {
      "cell_type": "code",
      "execution_count": null,
      "metadata": {},
      "outputs": [],
      "source": [
        "# # Store 30 days sample data\n",
        "\n",
        "\n",
        "# df = pd.read_excel('barbora.xlsx', sheet_name=\"Weather\")\n",
        "# df[df['dt'].between(20180101, 20180130)].to_csv('example_weather.csv', index=False)\n",
        "\n",
        "# df1 = pd.read_excel(\"barbora.xlsx\", sheet_name=\"Revenue\")\n",
        "# df1[:30].to_csv('example_revenue.csv', index=False)"
      ]
    },
    {
      "cell_type": "markdown",
      "metadata": {},
      "source": [
        "Ingest sample query data"
      ]
    },
    {
      "cell_type": "code",
      "execution_count": 60,
      "metadata": {},
      "outputs": [
        {
          "data": {
            "text/html": [
              "<div>\n",
              "<style scoped>\n",
              "    .dataframe tbody tr th:only-of-type {\n",
              "        vertical-align: middle;\n",
              "    }\n",
              "\n",
              "    .dataframe tbody tr th {\n",
              "        vertical-align: top;\n",
              "    }\n",
              "\n",
              "    .dataframe thead th {\n",
              "        text-align: right;\n",
              "    }\n",
              "</style>\n",
              "<table border=\"1\" class=\"dataframe\">\n",
              "  <thead>\n",
              "    <tr style=\"text-align: right;\">\n",
              "      <th></th>\n",
              "      <th>Date</th>\n",
              "      <th>Revenue</th>\n",
              "    </tr>\n",
              "  </thead>\n",
              "  <tbody>\n",
              "    <tr>\n",
              "      <th>0</th>\n",
              "      <td>2018-01-01</td>\n",
              "      <td>0.00</td>\n",
              "    </tr>\n",
              "    <tr>\n",
              "      <th>1</th>\n",
              "      <td>2018-01-02</td>\n",
              "      <td>0.00</td>\n",
              "    </tr>\n",
              "    <tr>\n",
              "      <th>2</th>\n",
              "      <td>2018-01-03</td>\n",
              "      <td>3087464.68</td>\n",
              "    </tr>\n",
              "    <tr>\n",
              "      <th>3</th>\n",
              "      <td>2018-01-04</td>\n",
              "      <td>2770763.36</td>\n",
              "    </tr>\n",
              "    <tr>\n",
              "      <th>4</th>\n",
              "      <td>2018-01-05</td>\n",
              "      <td>0.00</td>\n",
              "    </tr>\n",
              "  </tbody>\n",
              "</table>\n",
              "</div>"
            ],
            "text/plain": [
              "        Date     Revenue\n",
              "0 2018-01-01        0.00\n",
              "1 2018-01-02        0.00\n",
              "2 2018-01-03  3087464.68\n",
              "3 2018-01-04  2770763.36\n",
              "4 2018-01-05        0.00"
            ]
          },
          "execution_count": 60,
          "metadata": {},
          "output_type": "execute_result"
        }
      ],
      "source": [
        "\n",
        "df1 = pd.read_csv('example_revenue.csv', parse_dates=['Date'])\n",
        "df1.head()"
      ]
    },
    {
      "cell_type": "code",
      "execution_count": 38,
      "metadata": {},
      "outputs": [
        {
          "data": {
            "text/html": [
              "<div>\n",
              "<style scoped>\n",
              "    .dataframe tbody tr th:only-of-type {\n",
              "        vertical-align: middle;\n",
              "    }\n",
              "\n",
              "    .dataframe tbody tr th {\n",
              "        vertical-align: top;\n",
              "    }\n",
              "\n",
              "    .dataframe thead th {\n",
              "        text-align: right;\n",
              "    }\n",
              "</style>\n",
              "<table border=\"1\" class=\"dataframe\">\n",
              "  <thead>\n",
              "    <tr style=\"text-align: right;\">\n",
              "      <th></th>\n",
              "      <th>date</th>\n",
              "      <th>temperature</th>\n",
              "      <th>dew_point</th>\n",
              "      <th>humidity</th>\n",
              "      <th>wind</th>\n",
              "      <th>wind_speed</th>\n",
              "      <th>pressure</th>\n",
              "      <th>precipitation</th>\n",
              "      <th>condition</th>\n",
              "    </tr>\n",
              "  </thead>\n",
              "  <tbody>\n",
              "    <tr>\n",
              "      <th>0</th>\n",
              "      <td>2018-01-01 00:20:00</td>\n",
              "      <td>0</td>\n",
              "      <td>0</td>\n",
              "      <td>1.0</td>\n",
              "      <td>S</td>\n",
              "      <td>11</td>\n",
              "      <td>982</td>\n",
              "      <td>0</td>\n",
              "      <td>Mist</td>\n",
              "    </tr>\n",
              "    <tr>\n",
              "      <th>1</th>\n",
              "      <td>2018-01-01 00:50:00</td>\n",
              "      <td>0</td>\n",
              "      <td>0</td>\n",
              "      <td>1.0</td>\n",
              "      <td>S</td>\n",
              "      <td>14</td>\n",
              "      <td>983</td>\n",
              "      <td>0</td>\n",
              "      <td>Mist</td>\n",
              "    </tr>\n",
              "    <tr>\n",
              "      <th>2</th>\n",
              "      <td>2018-01-01 01:20:00</td>\n",
              "      <td>0</td>\n",
              "      <td>0</td>\n",
              "      <td>1.0</td>\n",
              "      <td>S</td>\n",
              "      <td>11</td>\n",
              "      <td>982</td>\n",
              "      <td>0</td>\n",
              "      <td>Mist</td>\n",
              "    </tr>\n",
              "    <tr>\n",
              "      <th>3</th>\n",
              "      <td>2018-01-01 01:50:00</td>\n",
              "      <td>0</td>\n",
              "      <td>0</td>\n",
              "      <td>1.0</td>\n",
              "      <td>S</td>\n",
              "      <td>14</td>\n",
              "      <td>982</td>\n",
              "      <td>0</td>\n",
              "      <td>Mostly Cloudy</td>\n",
              "    </tr>\n",
              "    <tr>\n",
              "      <th>4</th>\n",
              "      <td>2018-01-01 02:20:00</td>\n",
              "      <td>0</td>\n",
              "      <td>0</td>\n",
              "      <td>1.0</td>\n",
              "      <td>S</td>\n",
              "      <td>14</td>\n",
              "      <td>981</td>\n",
              "      <td>0</td>\n",
              "      <td>Light Rain</td>\n",
              "    </tr>\n",
              "  </tbody>\n",
              "</table>\n",
              "</div>"
            ],
            "text/plain": [
              "                 date  temperature  dew_point  humidity wind  wind_speed  \\\n",
              "0 2018-01-01 00:20:00            0          0       1.0    S          11   \n",
              "1 2018-01-01 00:50:00            0          0       1.0    S          14   \n",
              "2 2018-01-01 01:20:00            0          0       1.0    S          11   \n",
              "3 2018-01-01 01:50:00            0          0       1.0    S          14   \n",
              "4 2018-01-01 02:20:00            0          0       1.0    S          14   \n",
              "\n",
              "   pressure  precipitation      condition  \n",
              "0       982              0           Mist  \n",
              "1       983              0           Mist  \n",
              "2       982              0           Mist  \n",
              "3       982              0  Mostly Cloudy  \n",
              "4       981              0     Light Rain  "
            ]
          },
          "execution_count": 38,
          "metadata": {},
          "output_type": "execute_result"
        }
      ],
      "source": [
        "df2 = pd.read_csv('example_weather.csv', parse_dates=[['dt', 'time']])\n",
        "df2.rename(columns={'dt_time': \"date\"}, inplace=True)\n",
        "df2.head()"
      ]
    },
    {
      "cell_type": "markdown",
      "metadata": {
        "id": "QByb1wUlsOwC"
      },
      "source": [
        "### Drop Precipitation"
      ]
    },
    {
      "cell_type": "code",
      "execution_count": 39,
      "metadata": {
        "id": "l9dOa9C7tS_I"
      },
      "outputs": [],
      "source": [
        "# drop precipitation because it is constant\n",
        "df2 = df2.drop(columns=['precipitation'])"
      ]
    },
    {
      "cell_type": "markdown",
      "metadata": {
        "id": "kPPjqLjBsQ7s"
      },
      "source": [
        "### Downsampling"
      ]
    },
    {
      "cell_type": "code",
      "execution_count": 40,
      "metadata": {
        "id": "jHFYG7oZkR1B"
      },
      "outputs": [],
      "source": [
        "# because we need daily predictions, minutes data -> daily (downsampling)\n",
        "\n",
        "downsampling_type = ({'temperature':'mean',\n",
        "                      'dew_point':'mean',\n",
        "                      'humidity':'mean',\n",
        "                      'wind':'max',\n",
        "                      'wind_speed':'mean',\n",
        "                      'pressure':'mean',\n",
        "                      'condition':'max'})\n",
        "df2 = df2.resample('D', on='date').agg(downsampling_type)\n",
        "df2.reset_index(inplace=True)"
      ]
    },
    {
      "cell_type": "markdown",
      "metadata": {
        "id": "TrfFO5UjscxN"
      },
      "source": [
        "### Wind to numeric"
      ]
    },
    {
      "cell_type": "code",
      "execution_count": 41,
      "metadata": {
        "id": "6E2q3nM0kGbo"
      },
      "outputs": [],
      "source": [
        "# transform categoriacla features into numerical ones\n",
        "wind_transformation = {'N':0, 'NNE':22.5,\"NE\":45,\"ENE\":67.5,\n",
        "                       'E':90,'ESE':112.5, 'SE':135,'SSE':157.5,\n",
        "                       'S':180,'SSW':202.5, 'SW':225,'WSW':247.5,\n",
        "                       'W':270,'WNW':292.5,'NW':315,'NNW':337.5,\n",
        "                       'N':0,'VAR':0, np.nan:0}\n",
        "\n",
        "df2['wind'] = df2['wind'].replace(wind_transformation)"
      ]
    },
    {
      "cell_type": "markdown",
      "metadata": {
        "id": "Q5d1WC1QOTMW"
      },
      "source": [
        "### One-hot encode condition\n"
      ]
    },
    {
      "cell_type": "code",
      "execution_count": 43,
      "metadata": {
        "colab": {
          "base_uri": "https://localhost:8080/",
          "height": 433
        },
        "id": "hq5OePc_OMiV",
        "outputId": "bbf52e73-dbb8-4d7c-b927-10f3974691f7"
      },
      "outputs": [
        {
          "data": {
            "text/html": [
              "<div>\n",
              "<style scoped>\n",
              "    .dataframe tbody tr th:only-of-type {\n",
              "        vertical-align: middle;\n",
              "    }\n",
              "\n",
              "    .dataframe tbody tr th {\n",
              "        vertical-align: top;\n",
              "    }\n",
              "\n",
              "    .dataframe thead th {\n",
              "        text-align: right;\n",
              "    }\n",
              "</style>\n",
              "<table border=\"1\" class=\"dataframe\">\n",
              "  <thead>\n",
              "    <tr style=\"text-align: right;\">\n",
              "      <th></th>\n",
              "      <th>date</th>\n",
              "      <th>temperature</th>\n",
              "      <th>dew_point</th>\n",
              "      <th>humidity</th>\n",
              "      <th>wind</th>\n",
              "      <th>wind_speed</th>\n",
              "      <th>pressure</th>\n",
              "      <th>Mist</th>\n",
              "      <th>Mostly Cloudy</th>\n",
              "      <th>Partly Cloudy</th>\n",
              "      <th>Rain</th>\n",
              "      <th>Snow</th>\n",
              "      <th>Wintry Mix</th>\n",
              "      <th>Wintry Mix / Windy</th>\n",
              "    </tr>\n",
              "  </thead>\n",
              "  <tbody>\n",
              "    <tr>\n",
              "      <th>0</th>\n",
              "      <td>2018-01-01</td>\n",
              "      <td>3.240741</td>\n",
              "      <td>3.018519</td>\n",
              "      <td>0.984444</td>\n",
              "      <td>225.0</td>\n",
              "      <td>20.555556</td>\n",
              "      <td>979.111111</td>\n",
              "      <td>0</td>\n",
              "      <td>0</td>\n",
              "      <td>0</td>\n",
              "      <td>0</td>\n",
              "      <td>0</td>\n",
              "      <td>1</td>\n",
              "      <td>0</td>\n",
              "    </tr>\n",
              "    <tr>\n",
              "      <th>1</th>\n",
              "      <td>2018-01-02</td>\n",
              "      <td>2.333333</td>\n",
              "      <td>2.175439</td>\n",
              "      <td>0.980351</td>\n",
              "      <td>225.0</td>\n",
              "      <td>13.543860</td>\n",
              "      <td>985.035088</td>\n",
              "      <td>0</td>\n",
              "      <td>1</td>\n",
              "      <td>0</td>\n",
              "      <td>0</td>\n",
              "      <td>0</td>\n",
              "      <td>0</td>\n",
              "      <td>0</td>\n",
              "    </tr>\n",
              "    <tr>\n",
              "      <th>2</th>\n",
              "      <td>2018-01-03</td>\n",
              "      <td>1.923077</td>\n",
              "      <td>1.653846</td>\n",
              "      <td>0.973077</td>\n",
              "      <td>202.5</td>\n",
              "      <td>15.461538</td>\n",
              "      <td>979.807692</td>\n",
              "      <td>0</td>\n",
              "      <td>0</td>\n",
              "      <td>1</td>\n",
              "      <td>0</td>\n",
              "      <td>0</td>\n",
              "      <td>0</td>\n",
              "      <td>0</td>\n",
              "    </tr>\n",
              "    <tr>\n",
              "      <th>3</th>\n",
              "      <td>2018-01-04</td>\n",
              "      <td>2.285714</td>\n",
              "      <td>1.428571</td>\n",
              "      <td>0.928571</td>\n",
              "      <td>157.5</td>\n",
              "      <td>24.040816</td>\n",
              "      <td>973.959184</td>\n",
              "      <td>0</td>\n",
              "      <td>1</td>\n",
              "      <td>0</td>\n",
              "      <td>0</td>\n",
              "      <td>0</td>\n",
              "      <td>0</td>\n",
              "      <td>0</td>\n",
              "    </tr>\n",
              "    <tr>\n",
              "      <th>4</th>\n",
              "      <td>2018-01-05</td>\n",
              "      <td>2.290909</td>\n",
              "      <td>1.618182</td>\n",
              "      <td>0.915818</td>\n",
              "      <td>202.5</td>\n",
              "      <td>23.563636</td>\n",
              "      <td>975.309091</td>\n",
              "      <td>0</td>\n",
              "      <td>0</td>\n",
              "      <td>0</td>\n",
              "      <td>1</td>\n",
              "      <td>0</td>\n",
              "      <td>0</td>\n",
              "      <td>0</td>\n",
              "    </tr>\n",
              "  </tbody>\n",
              "</table>\n",
              "</div>"
            ],
            "text/plain": [
              "        date  temperature  dew_point  humidity   wind  wind_speed    pressure  \\\n",
              "0 2018-01-01     3.240741   3.018519  0.984444  225.0   20.555556  979.111111   \n",
              "1 2018-01-02     2.333333   2.175439  0.980351  225.0   13.543860  985.035088   \n",
              "2 2018-01-03     1.923077   1.653846  0.973077  202.5   15.461538  979.807692   \n",
              "3 2018-01-04     2.285714   1.428571  0.928571  157.5   24.040816  973.959184   \n",
              "4 2018-01-05     2.290909   1.618182  0.915818  202.5   23.563636  975.309091   \n",
              "\n",
              "   Mist  Mostly Cloudy  Partly Cloudy  Rain  Snow  Wintry Mix  \\\n",
              "0     0              0              0     0     0           1   \n",
              "1     0              1              0     0     0           0   \n",
              "2     0              0              1     0     0           0   \n",
              "3     0              1              0     0     0           0   \n",
              "4     0              0              0     1     0           0   \n",
              "\n",
              "   Wintry Mix / Windy  \n",
              "0                   0  \n",
              "1                   0  \n",
              "2                   0  \n",
              "3                   0  \n",
              "4                   0  "
            ]
          },
          "execution_count": 43,
          "metadata": {},
          "output_type": "execute_result"
        }
      ],
      "source": [
        "one_hot = pd.get_dummies(df2['condition'])\n",
        "df2 = df2.drop('condition',axis = 1)\n",
        "df2 = df2.join(one_hot)\n",
        "\n",
        "df2.head()"
      ]
    },
    {
      "cell_type": "markdown",
      "metadata": {},
      "source": [
        "### Interpolate missing values"
      ]
    },
    {
      "cell_type": "code",
      "execution_count": 44,
      "metadata": {
        "id": "7A4PaHiuJjML"
      },
      "outputs": [],
      "source": [
        "# interpolate all except date\n",
        "for col in df2.columns[1:]:\n",
        "  df2[col] = df2[col].interpolate()"
      ]
    },
    {
      "cell_type": "markdown",
      "metadata": {
        "id": "uMhaCg_koDA4"
      },
      "source": [
        "### Seasonality identification"
      ]
    },
    {
      "cell_type": "code",
      "execution_count": 47,
      "metadata": {
        "colab": {
          "base_uri": "https://localhost:8080/",
          "height": 1000
        },
        "id": "nwbOyUb9lasJ",
        "outputId": "2514e93e-de72-413d-9c8c-6a25f7754e40"
      },
      "outputs": [],
      "source": [
        "core_columns =  [\n",
        "    'temperature', 'dew_point', 'humidity', \n",
        "    'wind_speed', 'pressure'\n",
        "]\n",
        "\n",
        "for column in core_columns:\n",
        "    decomp = seasonal_decompose(df2[column], model='additive', period=15, extrapolate_trend='freq')\n",
        "# Add additional columns to dataframe\n",
        "    df2[f\"{column}_trend\"] = decomp.trend\n",
        "    df2[f\"{column}_seasonal\"] = decomp.seasonal"
      ]
    },
    {
      "cell_type": "markdown",
      "metadata": {
        "id": "za1NhSesptcK"
      },
      "source": [
        "### Combine, Adjust &  Export Data"
      ]
    },
    {
      "cell_type": "code",
      "execution_count": 65,
      "metadata": {},
      "outputs": [],
      "source": [
        "# Append 'Revenue' column to weather dataframe\n",
        "df2['revenue'] = df1['Revenue']"
      ]
    },
    {
      "cell_type": "code",
      "execution_count": 72,
      "metadata": {},
      "outputs": [
        {
          "data": {
            "text/html": [
              "<div>\n",
              "<style scoped>\n",
              "    .dataframe tbody tr th:only-of-type {\n",
              "        vertical-align: middle;\n",
              "    }\n",
              "\n",
              "    .dataframe tbody tr th {\n",
              "        vertical-align: top;\n",
              "    }\n",
              "\n",
              "    .dataframe thead th {\n",
              "        text-align: right;\n",
              "    }\n",
              "</style>\n",
              "<table border=\"1\" class=\"dataframe\">\n",
              "  <thead>\n",
              "    <tr style=\"text-align: right;\">\n",
              "      <th></th>\n",
              "      <th>date</th>\n",
              "      <th>temperature</th>\n",
              "      <th>dew_point</th>\n",
              "      <th>humidity</th>\n",
              "      <th>wind</th>\n",
              "      <th>wind_speed</th>\n",
              "      <th>pressure</th>\n",
              "      <th>Cloudy</th>\n",
              "      <th>Cloudy / Windy</th>\n",
              "      <th>Fair</th>\n",
              "      <th>...</th>\n",
              "      <th>temperature_seasonal</th>\n",
              "      <th>dew_point_trend</th>\n",
              "      <th>dew_point_seasonal</th>\n",
              "      <th>humidity_trend</th>\n",
              "      <th>humidity_seasonal</th>\n",
              "      <th>wind_speed_trend</th>\n",
              "      <th>wind_speed_seasonal</th>\n",
              "      <th>pressure_trend</th>\n",
              "      <th>pressure_seasonal</th>\n",
              "      <th>revenue</th>\n",
              "    </tr>\n",
              "  </thead>\n",
              "  <tbody>\n",
              "    <tr>\n",
              "      <th>0</th>\n",
              "      <td>2018-01-01</td>\n",
              "      <td>3.240741</td>\n",
              "      <td>3.018519</td>\n",
              "      <td>0.984444</td>\n",
              "      <td>225.0</td>\n",
              "      <td>20.555556</td>\n",
              "      <td>979.111111</td>\n",
              "      <td>0</td>\n",
              "      <td>0</td>\n",
              "      <td>0</td>\n",
              "      <td>...</td>\n",
              "      <td>-1.055212</td>\n",
              "      <td>-3.462649</td>\n",
              "      <td>-2.553531</td>\n",
              "      <td>0.876792</td>\n",
              "      <td>-0.080652</td>\n",
              "      <td>13.542524</td>\n",
              "      <td>10.253180</td>\n",
              "      <td>999.510569</td>\n",
              "      <td>-11.690120</td>\n",
              "      <td>0.00</td>\n",
              "    </tr>\n",
              "    <tr>\n",
              "      <th>1</th>\n",
              "      <td>2018-01-02</td>\n",
              "      <td>2.333333</td>\n",
              "      <td>2.175439</td>\n",
              "      <td>0.980351</td>\n",
              "      <td>225.0</td>\n",
              "      <td>13.543860</td>\n",
              "      <td>985.035088</td>\n",
              "      <td>0</td>\n",
              "      <td>0</td>\n",
              "      <td>0</td>\n",
              "      <td>...</td>\n",
              "      <td>0.084727</td>\n",
              "      <td>-3.653297</td>\n",
              "      <td>0.416936</td>\n",
              "      <td>0.876866</td>\n",
              "      <td>0.020149</td>\n",
              "      <td>13.593798</td>\n",
              "      <td>0.253530</td>\n",
              "      <td>999.217213</td>\n",
              "      <td>-17.488847</td>\n",
              "      <td>0.00</td>\n",
              "    </tr>\n",
              "    <tr>\n",
              "      <th>2</th>\n",
              "      <td>2018-01-03</td>\n",
              "      <td>1.923077</td>\n",
              "      <td>1.653846</td>\n",
              "      <td>0.973077</td>\n",
              "      <td>202.5</td>\n",
              "      <td>15.461538</td>\n",
              "      <td>979.807692</td>\n",
              "      <td>0</td>\n",
              "      <td>0</td>\n",
              "      <td>0</td>\n",
              "      <td>...</td>\n",
              "      <td>1.506660</td>\n",
              "      <td>-3.843945</td>\n",
              "      <td>2.382481</td>\n",
              "      <td>0.876940</td>\n",
              "      <td>0.055546</td>\n",
              "      <td>13.645073</td>\n",
              "      <td>-0.925201</td>\n",
              "      <td>998.923857</td>\n",
              "      <td>-16.940063</td>\n",
              "      <td>3087464.68</td>\n",
              "    </tr>\n",
              "    <tr>\n",
              "      <th>3</th>\n",
              "      <td>2018-01-04</td>\n",
              "      <td>2.285714</td>\n",
              "      <td>1.428571</td>\n",
              "      <td>0.928571</td>\n",
              "      <td>157.5</td>\n",
              "      <td>24.040816</td>\n",
              "      <td>973.959184</td>\n",
              "      <td>0</td>\n",
              "      <td>0</td>\n",
              "      <td>0</td>\n",
              "      <td>...</td>\n",
              "      <td>2.046837</td>\n",
              "      <td>-4.034593</td>\n",
              "      <td>2.574678</td>\n",
              "      <td>0.877014</td>\n",
              "      <td>0.023225</td>\n",
              "      <td>13.696347</td>\n",
              "      <td>2.770140</td>\n",
              "      <td>998.630501</td>\n",
              "      <td>-19.766513</td>\n",
              "      <td>2770763.36</td>\n",
              "    </tr>\n",
              "    <tr>\n",
              "      <th>4</th>\n",
              "      <td>2018-01-05</td>\n",
              "      <td>2.290909</td>\n",
              "      <td>1.618182</td>\n",
              "      <td>0.915818</td>\n",
              "      <td>202.5</td>\n",
              "      <td>23.563636</td>\n",
              "      <td>975.309091</td>\n",
              "      <td>0</td>\n",
              "      <td>0</td>\n",
              "      <td>0</td>\n",
              "      <td>...</td>\n",
              "      <td>1.950724</td>\n",
              "      <td>-4.225241</td>\n",
              "      <td>2.553300</td>\n",
              "      <td>0.877087</td>\n",
              "      <td>0.034660</td>\n",
              "      <td>13.747621</td>\n",
              "      <td>0.030888</td>\n",
              "      <td>998.337145</td>\n",
              "      <td>-14.410614</td>\n",
              "      <td>0.00</td>\n",
              "    </tr>\n",
              "  </tbody>\n",
              "</table>\n",
              "<p>5 rows × 53 columns</p>\n",
              "</div>"
            ],
            "text/plain": [
              "        date  temperature  dew_point  humidity   wind  wind_speed    pressure  \\\n",
              "0 2018-01-01     3.240741   3.018519  0.984444  225.0   20.555556  979.111111   \n",
              "1 2018-01-02     2.333333   2.175439  0.980351  225.0   13.543860  985.035088   \n",
              "2 2018-01-03     1.923077   1.653846  0.973077  202.5   15.461538  979.807692   \n",
              "3 2018-01-04     2.285714   1.428571  0.928571  157.5   24.040816  973.959184   \n",
              "4 2018-01-05     2.290909   1.618182  0.915818  202.5   23.563636  975.309091   \n",
              "\n",
              "   Cloudy  Cloudy / Windy  Fair  ...  temperature_seasonal  dew_point_trend  \\\n",
              "0       0               0     0  ...             -1.055212        -3.462649   \n",
              "1       0               0     0  ...              0.084727        -3.653297   \n",
              "2       0               0     0  ...              1.506660        -3.843945   \n",
              "3       0               0     0  ...              2.046837        -4.034593   \n",
              "4       0               0     0  ...              1.950724        -4.225241   \n",
              "\n",
              "   dew_point_seasonal  humidity_trend  humidity_seasonal  wind_speed_trend  \\\n",
              "0           -2.553531        0.876792          -0.080652         13.542524   \n",
              "1            0.416936        0.876866           0.020149         13.593798   \n",
              "2            2.382481        0.876940           0.055546         13.645073   \n",
              "3            2.574678        0.877014           0.023225         13.696347   \n",
              "4            2.553300        0.877087           0.034660         13.747621   \n",
              "\n",
              "   wind_speed_seasonal  pressure_trend  pressure_seasonal     revenue  \n",
              "0            10.253180      999.510569         -11.690120        0.00  \n",
              "1             0.253530      999.217213         -17.488847        0.00  \n",
              "2            -0.925201      998.923857         -16.940063  3087464.68  \n",
              "3             2.770140      998.630501         -19.766513  2770763.36  \n",
              "4             0.030888      998.337145         -14.410614        0.00  \n",
              "\n",
              "[5 rows x 53 columns]"
            ]
          },
          "execution_count": 72,
          "metadata": {},
          "output_type": "execute_result"
        }
      ],
      "source": [
        "df = pd.DataFrame(index=range(30), columns = ['date', 'temperature', 'dew_point', 'humidity', 'wind', 'wind_speed',\n",
        "       'pressure', 'Cloudy', 'Cloudy / Windy', 'Fair', 'Fair / Windy', 'Fog',\n",
        "       'Haze', 'Light Drizzle', 'Light Rain', 'Light Rain Shower',\n",
        "       'Light Snow', 'Mist', 'Mostly Cloudy', 'Mostly Cloudy / Windy',\n",
        "       'Partial Fog', 'Partly Cloudy', 'Partly Cloudy / Windy',\n",
        "       'Patches of Fog', 'Rain', 'Rain / Windy', 'Rain Shower',\n",
        "       'Rain Shower / Windy', 'Shallow Fog', 'Showers in the Vicinity',\n",
        "       'Smoke', 'Snow', 'Snow / Windy', 'Snow Shower', 'Snow Shower / Windy',\n",
        "       'T-Storm', 'T-Storm / Windy', 'Thunder', 'Thunder / Windy',\n",
        "       'Thunder in the Vicinity', 'Wintry Mix', 'Wintry Mix / Windy',\n",
        "       'temperature_trend', 'temperature_seasonal', 'dew_point_trend',\n",
        "       'dew_point_seasonal', 'humidity_trend', 'humidity_seasonal',\n",
        "       'wind_speed_trend', 'wind_speed_seasonal', 'pressure_trend',\n",
        "       'pressure_seasonal', 'revenue']).fillna(0)\n",
        "\n",
        "\n",
        "for col in df2.columns:\n",
        "    df[col] = df2[col]\n",
        "\n",
        "df.head()"
      ]
    },
    {
      "cell_type": "code",
      "execution_count": 73,
      "metadata": {},
      "outputs": [],
      "source": [
        "df.to_json('test2.json', orient=\"index\")"
      ]
    },
    {
      "cell_type": "markdown",
      "metadata": {},
      "source": [
        "Now, run service in BentoML and get prediction using prepared data. Sample query:\n",
        "\n",
        "`curl -X POST -H \"Content-Type: application/json\" -d @test2.json http://0.0.0.0:3000/predict30`"
      ]
    }
  ],
  "metadata": {
    "colab": {
      "provenance": []
    },
    "kernelspec": {
      "display_name": "Python 3.10.7 64-bit",
      "language": "python",
      "name": "python3"
    },
    "language_info": {
      "codemirror_mode": {
        "name": "ipython",
        "version": 3
      },
      "file_extension": ".py",
      "mimetype": "text/x-python",
      "name": "python",
      "nbconvert_exporter": "python",
      "pygments_lexer": "ipython3",
      "version": "3.10.7"
    },
    "vscode": {
      "interpreter": {
        "hash": "aee8b7b246df8f9039afb4144a1f6fd8d2ca17a180786b69acc140d282b71a49"
      }
    }
  },
  "nbformat": 4,
  "nbformat_minor": 0
}
